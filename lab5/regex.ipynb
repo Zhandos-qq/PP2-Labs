{
 "cells": [
  {
   "cell_type": "markdown",
   "metadata": {},
   "source": [
    "10.Напишите программу на Python для преобразования заданной строки в стиле Camel в стиле Snake."
   ]
  },
  {
   "cell_type": "code",
   "execution_count": null,
   "metadata": {
    "vscode": {
     "languageId": "plaintext"
    }
   },
   "outputs": [],
   "source": [
    "import re\n",
    "\n",
    "def camel_to_snake(camel_str):\n",
    "    snake_str = re.sub(r'([a-z])([A-Z])', r'\\1_\\2', camel_str)\n",
    "    return snake_str.lower()\n",
    "\n",
    "test_strings = [\n",
    "    \"helloWorld\",\n",
    "    \"convertThisText\",\n",
    "    \"camelCaseExample\",\n",
    "    \"myVariableName\",\n",
    "    \"ThisIsATest\"\n",
    "]\n",
    "\n",
    "for s in test_strings:\n",
    "    print(f\"'{s}' -> '{camel_to_snake(s)}'\")"
   ]
  },
  {
   "cell_type": "markdown",
   "metadata": {},
   "source": [
    "9.Напишите программу на Python для вставки пробелов между словами, начинающимися с заглавных букв."
   ]
  },
  {
   "cell_type": "code",
   "execution_count": null,
   "metadata": {
    "vscode": {
     "languageId": "plaintext"
    }
   },
   "outputs": [],
   "source": [
    "import re\n",
    "\n",
    "def insert_spaces(text):\n",
    "    return re.sub(r'([a-z])([A-Z])', r'\\1 \\2', text)\n",
    "\n",
    "test_strings = [\n",
    "    \"HelloWorld\",\n",
    "    \"SplitAtUppercase\",\n",
    "    \"ThisIsATest\",\n",
    "    \"PythonRocks\",\n",
    "    \"NoUppercase\"\n",
    "]\n",
    "\n",
    "for s in test_strings:\n",
    "    print(f\"'{s}' -> '{insert_spaces(s)}'\")"
   ]
  },
  {
   "cell_type": "markdown",
   "metadata": {},
   "source": [
    "8.Напишите программу на Python для разбиения строки по заглавным буквам."
   ]
  },
  {
   "cell_type": "code",
   "execution_count": null,
   "metadata": {
    "vscode": {
     "languageId": "plaintext"
    }
   },
   "outputs": [],
   "source": [
    "import re\n",
    "def my_func(text):\n",
    "    pattern = r'[A-Z][^A-Z]*'\n",
    "    return re.findall(pattern, text)\n",
    "string_tests = [\n",
    "    \"HelloWorld\", \"AstanaAlmaty\", \"NoUppercase\"\n",
    "]\n",
    "\n",
    "for s in string_tests:\n",
    "    print(f\"'{s}'-> {my_func(s)}'\")"
   ]
  },
  {
   "cell_type": "markdown",
   "metadata": {},
   "source": [
    "7.Напишите программу на Python для преобразования строки в формате Snake в строку в формате Camel."
   ]
  },
  {
   "cell_type": "code",
   "execution_count": null,
   "metadata": {
    "vscode": {
     "languageId": "plaintext"
    }
   },
   "outputs": [],
   "source": [
    "import re\n",
    "def my_func(snake_str):\n",
    "    components = snake_str.split(\"_\")\n",
    "    camel_case_str = components[0] + \"\".join(word.capitalize() for word in components[1:])\n",
    "    return camel_case_str\n",
    "\n",
    "test_strings = [\n",
    "    \"hello_world\",\n",
    "    \"convert_this_text\",\n",
    "    \"snake_case\",\n",
    "    \"my_variable_name\"\n",
    "]\n",
    "\n",
    "for s in test_strings:\n",
    "    print(f\"'{s}' -> '{my_func(s)}'\")"
   ]
  },
  {
   "cell_type": "markdown",
   "metadata": {},
   "source": [
    "6.Напишите программу на Python, которая заменяет все вхождения пробела, запятой или точки двоеточием."
   ]
  },
  {
   "cell_type": "code",
   "execution_count": null,
   "metadata": {
    "vscode": {
     "languageId": "plaintext"
    }
   },
   "outputs": [],
   "source": [
    "import re \n",
    "def replace(text):\n",
    "    pattern = r'[ .,]'\n",
    "    return re.sub(pattern, \":\", text)\n",
    "string_tests =[\n",
    "    \"Arman.,.,best\", \"123.,.33\", \"example , 1 2 3 4\"\n",
    "] \n",
    "\n",
    "for s in string_tests:\n",
    "    print(f\"'{s}' -> {replace(s)}\")"
   ]
  },
  {
   "cell_type": "markdown",
   "metadata": {},
   "source": [
    "5.Напишите программу на Python, которая соответствует строке, за которой следует буква «а», заканчивающаяся на «б»."
   ]
  },
  {
   "cell_type": "code",
   "execution_count": null,
   "metadata": {
    "vscode": {
     "languageId": "plaintext"
    }
   },
   "outputs": [],
   "source": [
    "import re \n",
    "def my_func(text):\n",
    "    pattern = r'^a.*b$'\n",
    "    return bool(re.fullmatch(pattern, text))\n",
    "\n",
    "strings = [\n",
    "    \"Aabb\", \"baab\", \"a884fjdb\", \"ajdshj3\", \"aass**b\", \"aabb\"\n",
    "]\n",
    "\n",
    "for s in strings:\n",
    "    print(f\"'{s}' - > {my_func(s)}\")"
   ]
  },
  {
   "cell_type": "markdown",
   "metadata": {},
   "source": [
    "4.Напишите программу на Python, чтобы найти последовательность одной буквы верхнего регистра, за которой следуют строчные буквы."
   ]
  },
  {
   "cell_type": "markdown",
   "metadata": {},
   "source": [
    "import re \n",
    "def find_words(text):\n",
    "    pattern = r'\\b[A-Z][a-z]+\\b'\n",
    "    return re.findall(pattern, text)\n",
    "\n",
    "string_tests = [\n",
    "    \"arman is num1\", \"World123\", \"Arman is num 1\", \"kbtu is num one\",\n",
    "]\n",
    "for s in string_tests:\n",
    "    print(f\"'{s}' -> {find_words(s)}\")\n",
    "     "
   ]
  },
  {
   "cell_type": "markdown",
   "metadata": {},
   "source": [
    "3.Напишите программу на Python для поиска последовательности строчных букв, соединенных подчеркиванием."
   ]
  },
  {
   "cell_type": "code",
   "execution_count": null,
   "metadata": {
    "vscode": {
     "languageId": "plaintext"
    }
   },
   "outputs": [],
   "source": [
    "import re\n",
    "def find_sequences(text):\n",
    "    pattern = r'\\b[a-z]+_[a-z]+\\b'\n",
    "    return re.findall(pattern, text)\n",
    "\n",
    "test_strings = [\n",
    "    \"Hello__World\", \"hello world_123\", \"hell0\", \"hello_world\",\n",
    "]    \n",
    "\n",
    "for s in test_strings:\n",
    "    print(f\"'{s}' -> {find_sequences(s)}\")"
   ]
  },
  {
   "cell_type": "markdown",
   "metadata": {},
   "source": [
    "2.Write a Python program that matches a string that has an 'a' followed by two to three 'b'.\n"
   ]
  },
  {
   "cell_type": "code",
   "execution_count": null,
   "metadata": {
    "vscode": {
     "languageId": "plaintext"
    }
   },
   "outputs": [],
   "source": [
    "import re\n",
    "\n",
    "def match_string(s):\n",
    "    pattern = r'ab{2,3}$'\n",
    "    if re.match(pattern, s):\n",
    "        return True\n",
    "    return False\n",
    "\n",
    "strings = [\"a\", \"ab\", \"abbbb\", \"b\", \"aaab\", \"bb\", \"\", \"aaaa\", \"bba\", \"aaaabbbb\"]\n",
    "for s in strings:\n",
    "    print(f\"'{s}' -> {match_string(s)}\")"
   ]
  },
  {
   "cell_type": "markdown",
   "metadata": {},
   "source": [
    "1 Write a Python program that matches a string that has an 'a' followed by zero or more 'b''s"
   ]
  },
  {
   "cell_type": "code",
   "execution_count": null,
   "metadata": {
    "vscode": {
     "languageId": "plaintext"
    }
   },
   "outputs": [],
   "source": [
    "import re\n",
    "\n",
    "def match_pattern(text):\n",
    "    pattern = r'^a+b*$'  \n",
    "    if re.fullmatch(pattern, text):\n",
    "        return True\n",
    "    return False\n",
    "\n",
    "sample_strings = [\"a\", \"ab\", \"abb\", \"abbb\", \"b\", \"abc\", \"aabb\"]\n",
    "\n",
    "for s in sample_strings:\n",
    "    print(f\"'{s}' -> {match_pattern(s)}\")\n"
   ]
  }
 ],
 "metadata": {
  "language_info": {
   "name": "python"
  }
 },
 "nbformat": 4,
 "nbformat_minor": 2
}
